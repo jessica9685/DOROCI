{
 "cells": [
  {
   "cell_type": "code",
   "execution_count": 15,
   "metadata": {},
   "outputs": [
    {
     "name": "stdout",
     "output_type": "stream",
     "text": [
      "(10, 77, 196, 1)\n",
      "[[9.9633610e-01 3.6638984e-03]\n",
      " [9.8932260e-01 1.0677359e-02]\n",
      " [9.4787944e-03 9.9052119e-01]\n",
      " [1.0772815e-01 8.9227182e-01]\n",
      " [9.9984789e-01 1.5204954e-04]\n",
      " [1.2151769e-01 8.7848228e-01]\n",
      " [2.6536109e-02 9.7346389e-01]\n",
      " [8.8754165e-01 1.1245836e-01]\n",
      " [9.9042577e-01 9.5743006e-03]\n",
      " [9.0376925e-01 9.6230790e-02]]\n",
      "Predict:  [0]\n",
      "Predict:  [0]\n",
      "Predict:  [1]\n",
      "Predict:  [1]\n",
      "Predict:  [0]\n",
      "Predict:  [1]\n",
      "Predict:  [1]\n",
      "Predict:  [0]\n",
      "Predict:  [0]\n",
      "Predict:  [0]\n",
      "[0. 0. 0. 0. 0. 0. 0. 0. 0. 0.]\n",
      "----------------- Confusion Matrix -----------------\n",
      "\n",
      "[[6 4]\n",
      " [0 0]]\n",
      "\n",
      "\n",
      "--------------- Classification Report ---------------\n",
      "\n",
      "              precision    recall  f1-score   support\n",
      "\n",
      "         0.0       1.00      0.60      0.75        10\n",
      "         1.0       0.00      0.00      0.00         0\n",
      "\n",
      "    accuracy                           0.60        10\n",
      "   macro avg       0.50      0.30      0.37        10\n",
      "weighted avg       1.00      0.60      0.75        10\n",
      "\n"
     ]
    },
    {
     "name": "stderr",
     "output_type": "stream",
     "text": [
      "C:\\Users\\cyber\\AppData\\Roaming\\Python\\Python37\\site-packages\\sklearn\\metrics\\_classification.py:1221: UndefinedMetricWarning: Recall and F-score are ill-defined and being set to 0.0 in labels with no true samples. Use `zero_division` parameter to control this behavior.\n",
      "  _warn_prf(average, modifier, msg_start, len(result))\n"
     ]
    }
   ],
   "source": [
    "import numpy as np\n",
    "from skimage.io import imread\n",
    "from skimage import img_as_float\n",
    "from skimage.color import rgb2gray\n",
    "from keras.models import load_model\n",
    "from sklearn.metrics import classification_report\n",
    "from sklearn.metrics import confusion_matrix\n",
    "\n",
    "xhat = np.zeros(shape=(10, 77, 196))\n",
    "\n",
    "for i in range(10):\n",
    "    num = i + 1\n",
    "    #xhat[i] = rgb2gray(img_as_float(imread('D:\\\\졸프\\\\sound\\\\test\\\\test_' + str(num) + '.png')))\n",
    "    temp = rgb2gray(img_as_float(imread('D:\\\\졸프\\\\sound\\\\test\\\\test_' + str(num) + '.png')))\n",
    "    xhat[i] = np.resize(temp, (77, 196))\n",
    "\n",
    "xhat = xhat.reshape(xhat.shape[0], 77, 196, 1).astype('float32')\n",
    "print(xhat.shape)\n",
    "\n",
    "model = load_model('D:\\\\졸프\\\\CNN_mel\\\\[Before]cnn_scream_model.h5')\n",
    "y_pred = model.predict(xhat, batch_size=20, verbose=2) # 확률값임\n",
    "print(y_pred)\n",
    "y_pred = np.argmax(y_pred, axis=1).reshape(-1, 1) # 정수 형태의 레이블로 변환\n",
    "\n",
    "\n",
    "for j in range(10):\n",
    "    print('Predict: ', str(y_pred[j]))\n",
    "    \n",
    "y_test = np.zeros(10)\n",
    "print(y_test)\n",
    "# y_test = np.argmax(y_test, axis=1).reshape(-1, 1)\n",
    "# confusion matrix 결과 출력\n",
    "print(\"----------------- Confusion Matrix -----------------\\n\")\n",
    "print(confusion_matrix(y_test, y_pred))\n",
    "\n",
    "# classification_report 결과 출력\n",
    "print(\"\\n\\n--------------- Classification Report ---------------\\n\")\n",
    "print(classification_report(y_test, y_pred))"
   ]
  },
  {
   "cell_type": "code",
   "execution_count": null,
   "metadata": {},
   "outputs": [],
   "source": []
  }
 ],
 "metadata": {
  "jupytext": {
   "formats": "ipynb,py:light"
  },
  "kernelspec": {
   "display_name": "Python 3",
   "language": "python",
   "name": "python3"
  },
  "language_info": {
   "codemirror_mode": {
    "name": "ipython",
    "version": 3
   },
   "file_extension": ".py",
   "mimetype": "text/x-python",
   "name": "python",
   "nbconvert_exporter": "python",
   "pygments_lexer": "ipython3",
   "version": "3.7.7"
  }
 },
 "nbformat": 4,
 "nbformat_minor": 4
}
